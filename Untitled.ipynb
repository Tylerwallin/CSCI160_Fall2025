{
 "cells": [
  {
   "cell_type": "code",
   "execution_count": 2,
   "id": "51e29978-abdf-4ee0-9743-fbe70848db9d",
   "metadata": {},
   "outputs": [
    {
     "name": "stdout",
     "output_type": "stream",
     "text": [
      "  (           )\n",
      " (             )\n",
      "(_______________)\n",
      " ///////////////\n",
      " /It is Raining/\n",
      " ///////////////\n",
      "  (           )\n",
      " (             )\n",
      "(_______________)\n",
      " ///////////////\n",
      " /It is Raining/\n",
      " ///////////////\n"
     ]
    }
   ],
   "source": [
    "def printRain(): #Function Definition\n",
    "#A function definition creates the function by specifying a function name\n",
    "\n",
    "    #Whatever the function does is indented just like if statements\n",
    "    #Function Body\n",
    "    print('  (           )')\n",
    "    print(' (             )')\n",
    "    print('(_______________)')\n",
    "    print(' ///////////////')\n",
    "    print(' /It is Raining/')\n",
    "    print(' ///////////////')\n",
    "\n",
    "\n",
    "\n",
    "def main(): #Function Definition\n",
    "\n",
    "    printRain()\n",
    "    printRain()\n",
    "    #Function Call\n",
    "    #This directs Python to the function to do whatever the function specifies\n",
    "  \n",
    "main() #Function Call"
   ]
  },
  {
   "cell_type": "code",
   "execution_count": 36,
   "id": "4924cfbf-7b42-4563-9304-51405a313aa2",
   "metadata": {},
   "outputs": [
    {
     "name": "stdin",
     "output_type": "stream",
     "text": [
      "Enter a distance in km  5\n"
     ]
    },
    {
     "name": "stdout",
     "output_type": "stream",
     "text": [
      "5\n"
     ]
    },
    {
     "ename": "TypeError",
     "evalue": "unsupported operand type(s) for /: 'NoneType' and 'float'",
     "output_type": "error",
     "traceback": [
      "\u001b[31m---------------------------------------------------------------------------\u001b[39m",
      "\u001b[31mTypeError\u001b[39m                                 Traceback (most recent call last)",
      "\u001b[36mCell\u001b[39m\u001b[36m \u001b[39m\u001b[32mIn[36]\u001b[39m\u001b[32m, line 10\u001b[39m\n\u001b[32m      7\u001b[39m     km=\u001b[38;5;28mprint\u001b[39m(\u001b[38;5;28minput\u001b[39m(\u001b[33m\"\u001b[39m\u001b[33mEnter a distance in km \u001b[39m\u001b[33m\"\u001b[39m))\n\u001b[32m      8\u001b[39m     feet_distance= kilometersToFeet(km)\n\u001b[32m---> \u001b[39m\u001b[32m10\u001b[39m \u001b[38;5;28mprint\u001b[39m(\u001b[43mmain\u001b[49m\u001b[43m(\u001b[49m\u001b[43m)\u001b[49m)\n",
      "\u001b[36mCell\u001b[39m\u001b[36m \u001b[39m\u001b[32mIn[36]\u001b[39m\u001b[32m, line 8\u001b[39m, in \u001b[36mmain\u001b[39m\u001b[34m()\u001b[39m\n\u001b[32m      6\u001b[39m \u001b[38;5;28;01mdef\u001b[39;00m\u001b[38;5;250m \u001b[39m\u001b[34mmain\u001b[39m():\n\u001b[32m      7\u001b[39m     km=\u001b[38;5;28mprint\u001b[39m(\u001b[38;5;28minput\u001b[39m(\u001b[33m\"\u001b[39m\u001b[33mEnter a distance in km \u001b[39m\u001b[33m\"\u001b[39m))\n\u001b[32m----> \u001b[39m\u001b[32m8\u001b[39m     feet_distance= \u001b[43mkilometersToFeet\u001b[49m\u001b[43m(\u001b[49m\u001b[43mkm\u001b[49m\u001b[43m)\u001b[49m\n",
      "\u001b[36mCell\u001b[39m\u001b[36m \u001b[39m\u001b[32mIn[36]\u001b[39m\u001b[32m, line 3\u001b[39m, in \u001b[36mkilometersToFeet\u001b[39m\u001b[34m(km)\u001b[39m\n\u001b[32m      1\u001b[39m \u001b[38;5;28;01mdef\u001b[39;00m\u001b[38;5;250m \u001b[39m\u001b[34mkilometersToFeet\u001b[39m(km):\n\u001b[32m      2\u001b[39m     \u001b[38;5;66;03m#add conversion\u001b[39;00m\n\u001b[32m----> \u001b[39m\u001b[32m3\u001b[39m     feet = \u001b[43mkm\u001b[49m\u001b[43m/\u001b[49m\u001b[32;43m1.61\u001b[39;49m\n\u001b[32m      4\u001b[39m     \u001b[38;5;28;01mreturn\u001b[39;00m feet\n",
      "\u001b[31mTypeError\u001b[39m: unsupported operand type(s) for /: 'NoneType' and 'float'"
     ]
    }
   ],
   "source": [
    "def kilometersToFeet(km):\n",
    "    #add conversion\n",
    "    feet = km/1.61\n",
    "    return feet\n",
    "\n",
    "def main():\n",
    "    km=print(input(\"Enter a distance in km \"))\n",
    "    feet_distance= kilometersToFeet(km)\n",
    "\n",
    "print(main())"
   ]
  },
  {
   "cell_type": "code",
   "execution_count": 1,
   "id": "3713384c-7930-4541-b107-a1f174688b7c",
   "metadata": {},
   "outputs": [
    {
     "ename": "TypeError",
     "evalue": "kilometersToFeet() missing 1 required positional argument: 'km'",
     "output_type": "error",
     "traceback": [
      "\u001b[31m---------------------------------------------------------------------------\u001b[39m",
      "\u001b[31mTypeError\u001b[39m                                 Traceback (most recent call last)",
      "\u001b[36mCell\u001b[39m\u001b[36m \u001b[39m\u001b[32mIn[1]\u001b[39m\u001b[32m, line 9\u001b[39m\n\u001b[32m      6\u001b[39m \u001b[38;5;28;01mdef\u001b[39;00m\u001b[38;5;250m \u001b[39m\u001b[34mmain\u001b[39m():\n\u001b[32m      7\u001b[39m     feet_distance = kilometersToFeet()\n\u001b[32m----> \u001b[39m\u001b[32m9\u001b[39m \u001b[38;5;28mprint\u001b[39m(\u001b[43mmain\u001b[49m\u001b[43m(\u001b[49m\u001b[43m)\u001b[49m)\n",
      "\u001b[36mCell\u001b[39m\u001b[36m \u001b[39m\u001b[32mIn[1]\u001b[39m\u001b[32m, line 7\u001b[39m, in \u001b[36mmain\u001b[39m\u001b[34m()\u001b[39m\n\u001b[32m      6\u001b[39m \u001b[38;5;28;01mdef\u001b[39;00m\u001b[38;5;250m \u001b[39m\u001b[34mmain\u001b[39m():\n\u001b[32m----> \u001b[39m\u001b[32m7\u001b[39m     feet_distance = \u001b[43mkilometersToFeet\u001b[49m\u001b[43m(\u001b[49m\u001b[43m)\u001b[49m\n",
      "\u001b[31mTypeError\u001b[39m: kilometersToFeet() missing 1 required positional argument: 'km'"
     ]
    }
   ],
   "source": [
    "def kilometersToFeet(km):\n",
    "    #add conversion\n",
    "    feet = km/1.61\n",
    "    return feet\n",
    "\n",
    "def main():\n",
    "    feet_distance = kilometersToFeet(km)\n",
    "\n",
    "print(main())"
   ]
  },
  {
   "cell_type": "code",
   "execution_count": 2,
   "id": "02bf1af3-1007-4832-a272-061f96c3b931",
   "metadata": {},
   "outputs": [
    {
     "ename": "TypeError",
     "evalue": "kilometersToFeet() missing 1 required positional argument: 'km'",
     "output_type": "error",
     "traceback": [
      "\u001b[31m---------------------------------------------------------------------------\u001b[39m",
      "\u001b[31mTypeError\u001b[39m                                 Traceback (most recent call last)",
      "\u001b[36mCell\u001b[39m\u001b[36m \u001b[39m\u001b[32mIn[2]\u001b[39m\u001b[32m, line 9\u001b[39m\n\u001b[32m      6\u001b[39m \u001b[38;5;28;01mdef\u001b[39;00m\u001b[38;5;250m \u001b[39m\u001b[34mmain\u001b[39m():\n\u001b[32m      7\u001b[39m     feet_distance = kilometersToFeet()\n\u001b[32m----> \u001b[39m\u001b[32m9\u001b[39m \u001b[38;5;28mprint\u001b[39m(\u001b[43mmain\u001b[49m\u001b[43m(\u001b[49m\u001b[43m)\u001b[49m)\n",
      "\u001b[36mCell\u001b[39m\u001b[36m \u001b[39m\u001b[32mIn[2]\u001b[39m\u001b[32m, line 7\u001b[39m, in \u001b[36mmain\u001b[39m\u001b[34m()\u001b[39m\n\u001b[32m      6\u001b[39m \u001b[38;5;28;01mdef\u001b[39;00m\u001b[38;5;250m \u001b[39m\u001b[34mmain\u001b[39m():\n\u001b[32m----> \u001b[39m\u001b[32m7\u001b[39m     feet_distance = \u001b[43mkilometersToFeet\u001b[49m\u001b[43m(\u001b[49m\u001b[43m)\u001b[49m\n",
      "\u001b[31mTypeError\u001b[39m: kilometersToFeet() missing 1 required positional argument: 'km'"
     ]
    }
   ],
   "source": [
    "def kilometersToFeet(km):\n",
    "    #add conversion\n",
    "    feet = km/1.61\n",
    "    return feet\n",
    "\n",
    "def main():\n",
    "    feet_distance = kilometersToFeet()\n",
    "\n",
    "print(main())"
   ]
  },
  {
   "cell_type": "code",
   "execution_count": 3,
   "id": "dd1f6ba3-6d48-4f37-a0eb-70bd08c8aa61",
   "metadata": {},
   "outputs": [
    {
     "ename": "NameError",
     "evalue": "name 'km' is not defined",
     "output_type": "error",
     "traceback": [
      "\u001b[31m---------------------------------------------------------------------------\u001b[39m",
      "\u001b[31mNameError\u001b[39m                                 Traceback (most recent call last)",
      "\u001b[36mCell\u001b[39m\u001b[36m \u001b[39m\u001b[32mIn[3]\u001b[39m\u001b[32m, line 9\u001b[39m\n\u001b[32m      6\u001b[39m \u001b[38;5;28;01mdef\u001b[39;00m\u001b[38;5;250m \u001b[39m\u001b[34mmain\u001b[39m():\n\u001b[32m      7\u001b[39m     feet_distance = kilometersToFeet(km)\n\u001b[32m----> \u001b[39m\u001b[32m9\u001b[39m \u001b[38;5;28mprint\u001b[39m(\u001b[43mmain\u001b[49m\u001b[43m(\u001b[49m\u001b[43m)\u001b[49m)\n",
      "\u001b[36mCell\u001b[39m\u001b[36m \u001b[39m\u001b[32mIn[3]\u001b[39m\u001b[32m, line 7\u001b[39m, in \u001b[36mmain\u001b[39m\u001b[34m()\u001b[39m\n\u001b[32m      6\u001b[39m \u001b[38;5;28;01mdef\u001b[39;00m\u001b[38;5;250m \u001b[39m\u001b[34mmain\u001b[39m():\n\u001b[32m----> \u001b[39m\u001b[32m7\u001b[39m     feet_distance = kilometersToFeet(\u001b[43mkm\u001b[49m)\n",
      "\u001b[31mNameError\u001b[39m: name 'km' is not defined"
     ]
    }
   ],
   "source": [
    "def kilometersToFeet(km):\n",
    "    input(float(\"Enter distance in kilometers: \"))\n",
    "    feet = km/1.61\n",
    "    return feet\n",
    "\n",
    "def main():\n",
    "    feet_distance = kilometersToFeet(km)\n",
    "\n",
    "print(main())"
   ]
  },
  {
   "cell_type": "code",
   "execution_count": 4,
   "id": "cbd257de-5216-4621-8c26-d90660753990",
   "metadata": {},
   "outputs": [
    {
     "ename": "NameError",
     "evalue": "name 'km' is not defined",
     "output_type": "error",
     "traceback": [
      "\u001b[31m---------------------------------------------------------------------------\u001b[39m",
      "\u001b[31mNameError\u001b[39m                                 Traceback (most recent call last)",
      "\u001b[36mCell\u001b[39m\u001b[36m \u001b[39m\u001b[32mIn[4]\u001b[39m\u001b[32m, line 9\u001b[39m\n\u001b[32m      6\u001b[39m \u001b[38;5;28;01mdef\u001b[39;00m\u001b[38;5;250m \u001b[39m\u001b[34mmain\u001b[39m():\n\u001b[32m      7\u001b[39m     feet_distance = kilometersToFeet(km)\n\u001b[32m----> \u001b[39m\u001b[32m9\u001b[39m \u001b[38;5;28mprint\u001b[39m(\u001b[43mmain\u001b[49m\u001b[43m(\u001b[49m\u001b[43m)\u001b[49m)\n",
      "\u001b[36mCell\u001b[39m\u001b[36m \u001b[39m\u001b[32mIn[4]\u001b[39m\u001b[32m, line 7\u001b[39m, in \u001b[36mmain\u001b[39m\u001b[34m()\u001b[39m\n\u001b[32m      6\u001b[39m \u001b[38;5;28;01mdef\u001b[39;00m\u001b[38;5;250m \u001b[39m\u001b[34mmain\u001b[39m():\n\u001b[32m----> \u001b[39m\u001b[32m7\u001b[39m     feet_distance = kilometersToFeet(\u001b[43mkm\u001b[49m)\n",
      "\u001b[31mNameError\u001b[39m: name 'km' is not defined"
     ]
    }
   ],
   "source": [
    "def kilometersToFeet(km):\n",
    "    print(input(float(\"Enter distance in kilometers: \")))\n",
    "    feet = km/1.61\n",
    "    return feet\n",
    "\n",
    "def main():\n",
    "    feet_distance = kilometersToFeet(km)\n",
    "\n",
    "print(main())"
   ]
  },
  {
   "cell_type": "code",
   "execution_count": 5,
   "id": "a950501f-174d-418e-b3e3-9b950df07093",
   "metadata": {},
   "outputs": [
    {
     "ename": "NameError",
     "evalue": "name 'km' is not defined",
     "output_type": "error",
     "traceback": [
      "\u001b[31m---------------------------------------------------------------------------\u001b[39m",
      "\u001b[31mNameError\u001b[39m                                 Traceback (most recent call last)",
      "\u001b[36mCell\u001b[39m\u001b[36m \u001b[39m\u001b[32mIn[5]\u001b[39m\u001b[32m, line 9\u001b[39m\n\u001b[32m      6\u001b[39m \u001b[38;5;28;01mdef\u001b[39;00m\u001b[38;5;250m \u001b[39m\u001b[34mmain\u001b[39m():\n\u001b[32m      7\u001b[39m     feet_distance = kilometersToFeet(km)\n\u001b[32m----> \u001b[39m\u001b[32m9\u001b[39m \u001b[38;5;28mprint\u001b[39m(\u001b[43mmain\u001b[49m\u001b[43m(\u001b[49m\u001b[43m)\u001b[49m)\n",
      "\u001b[36mCell\u001b[39m\u001b[36m \u001b[39m\u001b[32mIn[5]\u001b[39m\u001b[32m, line 7\u001b[39m, in \u001b[36mmain\u001b[39m\u001b[34m()\u001b[39m\n\u001b[32m      6\u001b[39m \u001b[38;5;28;01mdef\u001b[39;00m\u001b[38;5;250m \u001b[39m\u001b[34mmain\u001b[39m():\n\u001b[32m----> \u001b[39m\u001b[32m7\u001b[39m     feet_distance = kilometersToFeet(\u001b[43mkm\u001b[49m)\n",
      "\u001b[31mNameError\u001b[39m: name 'km' is not defined"
     ]
    }
   ],
   "source": [
    "def kilometersToFeet(km):\n",
    "    print(input(float(\"Enter distance in kilometers: \")))\n",
    "    feet = km/1.61\n",
    "    return feet\n",
    "\n",
    "def main():\n",
    "    feet_distance = kilometersToFeet(km)\n",
    "\n",
    "print(main())"
   ]
  },
  {
   "cell_type": "code",
   "execution_count": 6,
   "id": "c077f048-abe8-4c1b-b87e-9fabd313df57",
   "metadata": {},
   "outputs": [
    {
     "data": {
      "text/plain": [
       "<function __main__.main()>"
      ]
     },
     "execution_count": 6,
     "metadata": {},
     "output_type": "execute_result"
    }
   ],
   "source": [
    "def kilometersToFeet(km):\n",
    "    #add conversion\n",
    "    feet = km/1.61\n",
    "    return feet\n",
    "\n",
    "def main():\n",
    "    feet_distance = kilometersToFeet()\n",
    "    print(feet_distance)\n",
    "\n",
    "(main)"
   ]
  },
  {
   "cell_type": "code",
   "execution_count": 7,
   "id": "ef1e09c4-6f16-4192-b0cf-23723402feda",
   "metadata": {},
   "outputs": [
    {
     "ename": "SyntaxError",
     "evalue": "incomplete input (2413321362.py, line 5)",
     "output_type": "error",
     "traceback": [
      "  \u001b[36mCell\u001b[39m\u001b[36m \u001b[39m\u001b[32mIn[7]\u001b[39m\u001b[32m, line 5\u001b[39m\n\u001b[31m    \u001b[39m\u001b[31mprint (kilometeresToFeet(km)\u001b[39m\n                                ^\n\u001b[31mSyntaxError\u001b[39m\u001b[31m:\u001b[39m incomplete input\n"
     ]
    }
   ],
   "source": [
    "def kilometersToFeet(km):\n",
    "    #add conversion\n",
    "    feet = km/1.61\n",
    "    return feet\n",
    "print (kilometeresToFeet(km)\n"
   ]
  },
  {
   "cell_type": "code",
   "execution_count": null,
   "id": "1ece6113-1b46-4870-9db3-f04634fe74c6",
   "metadata": {},
   "outputs": [],
   "source": [
    "print(kilometersToFeet(km))"
   ]
  },
  {
   "cell_type": "code",
   "execution_count": 8,
   "id": "0601b5d4-7ae8-4317-aa82-bfe43c18c8b9",
   "metadata": {},
   "outputs": [
    {
     "ename": "NameError",
     "evalue": "name 'kilometeresToFeet' is not defined",
     "output_type": "error",
     "traceback": [
      "\u001b[31m---------------------------------------------------------------------------\u001b[39m",
      "\u001b[31mNameError\u001b[39m                                 Traceback (most recent call last)",
      "\u001b[36mCell\u001b[39m\u001b[36m \u001b[39m\u001b[32mIn[8]\u001b[39m\u001b[32m, line 5\u001b[39m\n\u001b[32m      3\u001b[39m     feet = km/\u001b[32m1.61\u001b[39m\n\u001b[32m      4\u001b[39m     \u001b[38;5;28;01mreturn\u001b[39;00m feet\n\u001b[32m----> \u001b[39m\u001b[32m5\u001b[39m \u001b[38;5;28mprint\u001b[39m (\u001b[43mkilometeresToFeet\u001b[49m(km))\n",
      "\u001b[31mNameError\u001b[39m: name 'kilometeresToFeet' is not defined"
     ]
    }
   ],
   "source": [
    "def kilometersToFeet(km):\n",
    "    #add conversion\n",
    "    feet = km/1.61\n",
    "    return feet\n",
    "print (kilometeresToFeet(km))"
   ]
  },
  {
   "cell_type": "code",
   "execution_count": 9,
   "id": "a659a025-ab10-4cce-9f76-2209120e7cac",
   "metadata": {},
   "outputs": [
    {
     "ename": "NameError",
     "evalue": "name 'km' is not defined",
     "output_type": "error",
     "traceback": [
      "\u001b[31m---------------------------------------------------------------------------\u001b[39m",
      "\u001b[31mNameError\u001b[39m                                 Traceback (most recent call last)",
      "\u001b[36mCell\u001b[39m\u001b[36m \u001b[39m\u001b[32mIn[9]\u001b[39m\u001b[32m, line 5\u001b[39m\n\u001b[32m      3\u001b[39m     feet = km/\u001b[32m1.61\u001b[39m\n\u001b[32m      4\u001b[39m     \u001b[38;5;28;01mreturn\u001b[39;00m feet\n\u001b[32m----> \u001b[39m\u001b[32m5\u001b[39m \u001b[38;5;28mprint\u001b[39m (kilometersToFeet(\u001b[43mkm\u001b[49m))\n",
      "\u001b[31mNameError\u001b[39m: name 'km' is not defined"
     ]
    }
   ],
   "source": [
    "def kilometersToFeet(km):\n",
    "    #add conversion\n",
    "    feet = km/1.61\n",
    "    return feet\n",
    "print (kilometersToFeet(km))"
   ]
  },
  {
   "cell_type": "code",
   "execution_count": 10,
   "id": "6575d675-e17d-4822-82ee-65cb98cf4469",
   "metadata": {},
   "outputs": [
    {
     "ename": "NameError",
     "evalue": "name 'kilometeresToFeet' is not defined",
     "output_type": "error",
     "traceback": [
      "\u001b[31m---------------------------------------------------------------------------\u001b[39m",
      "\u001b[31mNameError\u001b[39m                                 Traceback (most recent call last)",
      "\u001b[36mCell\u001b[39m\u001b[36m \u001b[39m\u001b[32mIn[10]\u001b[39m\u001b[32m, line 5\u001b[39m\n\u001b[32m      3\u001b[39m     feet = km/\u001b[32m1.61\u001b[39m\n\u001b[32m      4\u001b[39m     \u001b[38;5;28;01mreturn\u001b[39;00m feet\n\u001b[32m----> \u001b[39m\u001b[32m5\u001b[39m \u001b[38;5;28mprint\u001b[39m (\u001b[43mkilometeresToFeet\u001b[49m(feet))\n",
      "\u001b[31mNameError\u001b[39m: name 'kilometeresToFeet' is not defined"
     ]
    }
   ],
   "source": [
    "def kilometersToFeet(feet):\n",
    "    #add conversion\n",
    "    feet = km/1.61\n",
    "    return feet\n",
    "print (kilometeresToFeet(feet))"
   ]
  },
  {
   "cell_type": "code",
   "execution_count": 11,
   "id": "6dbc5947-eb63-43b2-9bbb-4698f83bfadb",
   "metadata": {},
   "outputs": [
    {
     "ename": "NameError",
     "evalue": "name 'feet' is not defined",
     "output_type": "error",
     "traceback": [
      "\u001b[31m---------------------------------------------------------------------------\u001b[39m",
      "\u001b[31mNameError\u001b[39m                                 Traceback (most recent call last)",
      "\u001b[36mCell\u001b[39m\u001b[36m \u001b[39m\u001b[32mIn[11]\u001b[39m\u001b[32m, line 5\u001b[39m\n\u001b[32m      3\u001b[39m     feet = km/\u001b[32m1.61\u001b[39m\n\u001b[32m      4\u001b[39m     \u001b[38;5;28;01mreturn\u001b[39;00m feet\n\u001b[32m----> \u001b[39m\u001b[32m5\u001b[39m \u001b[38;5;28mprint\u001b[39m (kilometersToFeet(\u001b[43mfeet\u001b[49m))\n",
      "\u001b[31mNameError\u001b[39m: name 'feet' is not defined"
     ]
    }
   ],
   "source": [
    "def kilometersToFeet(feet):\n",
    "    #add conversion\n",
    "    feet = km/1.61\n",
    "    return feet\n",
    "print (kilometersToFeet(feet))"
   ]
  },
  {
   "cell_type": "code",
   "execution_count": 13,
   "id": "ea087428-d0be-452a-ab63-78fdfff6f3f6",
   "metadata": {},
   "outputs": [],
   "source": [
    "def kilometersToFeet(feet):\n",
    "    #add conversion\n",
    "    input(\"Enter an amount in kilometers: \")\n",
    "    feet = km/1.61\n",
    "    return feet"
   ]
  },
  {
   "cell_type": "code",
   "execution_count": 15,
   "id": "9bd6bd30-3347-45e7-9013-dc845508a7d2",
   "metadata": {},
   "outputs": [],
   "source": [
    "def kilometersToFeet(feet):\n",
    "    #add conversion\n",
    "    km=input(\"Enter an amount in kilometers: \")\n",
    "    feet = km/1.61\n",
    "    return feet"
   ]
  },
  {
   "cell_type": "code",
   "execution_count": 16,
   "id": "034c1b31-fcfe-4947-9b9c-1ff0638fe65e",
   "metadata": {},
   "outputs": [
    {
     "ename": "SyntaxError",
     "evalue": "invalid syntax (1961429933.py, line 6)",
     "output_type": "error",
     "traceback": [
      "  \u001b[36mCell\u001b[39m\u001b[36m \u001b[39m\u001b[32mIn[16]\u001b[39m\u001b[32m, line 6\u001b[39m\n\u001b[31m    \u001b[39m\u001b[31mprint(kilometersToFeet(feet):\u001b[39m\n                                ^\n\u001b[31mSyntaxError\u001b[39m\u001b[31m:\u001b[39m invalid syntax\n"
     ]
    }
   ],
   "source": [
    "def kilometersToFeet(feet):\n",
    "    #add conversion\n",
    "    km=input(\"Enter an amount in kilometers: \")\n",
    "    feet = km/1.61\n",
    "    return feet\n",
    "print(kilometersToFeet(feet):"
   ]
  },
  {
   "cell_type": "code",
   "execution_count": 17,
   "id": "32476a56-42c8-4982-b985-c9759deb54dc",
   "metadata": {},
   "outputs": [
    {
     "ename": "SyntaxError",
     "evalue": "incomplete input (4002956861.py, line 6)",
     "output_type": "error",
     "traceback": [
      "  \u001b[36mCell\u001b[39m\u001b[36m \u001b[39m\u001b[32mIn[17]\u001b[39m\u001b[32m, line 6\u001b[39m\n\u001b[31m    \u001b[39m\u001b[31mprint(kilometersToFeet(feet)\u001b[39m\n                                ^\n\u001b[31mSyntaxError\u001b[39m\u001b[31m:\u001b[39m incomplete input\n"
     ]
    }
   ],
   "source": [
    "def kilometersToFeet(feet):\n",
    "    #add conversion\n",
    "    km=input(\"Enter an amount in kilometers: \")\n",
    "    feet = km/1.61\n",
    "    return feet\n",
    "print(kilometersToFeet(feet))"
   ]
  },
  {
   "cell_type": "code",
   "execution_count": 19,
   "id": "31a60183-ab3b-4584-98e0-e18cf18d70a9",
   "metadata": {},
   "outputs": [
    {
     "ename": "NameError",
     "evalue": "name 'km' is not defined",
     "output_type": "error",
     "traceback": [
      "\u001b[31m---------------------------------------------------------------------------\u001b[39m",
      "\u001b[31mNameError\u001b[39m                                 Traceback (most recent call last)",
      "\u001b[36mCell\u001b[39m\u001b[36m \u001b[39m\u001b[32mIn[19]\u001b[39m\u001b[32m, line 6\u001b[39m\n\u001b[32m      4\u001b[39m     feet = km/\u001b[32m1.61\u001b[39m\n\u001b[32m      5\u001b[39m     \u001b[38;5;28;01mreturn\u001b[39;00m feet\n\u001b[32m----> \u001b[39m\u001b[32m6\u001b[39m \u001b[38;5;28mprint\u001b[39m(kilometersToFeet(\u001b[43mkm\u001b[49m))\n",
      "\u001b[31mNameError\u001b[39m: name 'km' is not defined"
     ]
    }
   ],
   "source": [
    "def kilometersToFeet(km):\n",
    "    #add conversion\n",
    "    km=input(\"Enter an amount in kilometers: \")\n",
    "    feet = km/1.61\n",
    "    return feet\n",
    "print(kilometersToFeet(km))"
   ]
  },
  {
   "cell_type": "code",
   "execution_count": 21,
   "id": "57f87cc4-f423-4b00-9990-5bbb27ff8abd",
   "metadata": {},
   "outputs": [
    {
     "ename": "NameError",
     "evalue": "name 'km' is not defined",
     "output_type": "error",
     "traceback": [
      "\u001b[31m---------------------------------------------------------------------------\u001b[39m",
      "\u001b[31mNameError\u001b[39m                                 Traceback (most recent call last)",
      "\u001b[36mCell\u001b[39m\u001b[36m \u001b[39m\u001b[32mIn[21]\u001b[39m\u001b[32m, line 6\u001b[39m\n\u001b[32m      4\u001b[39m     feet = km/\u001b[32m1.61\u001b[39m\n\u001b[32m      5\u001b[39m     \u001b[38;5;28;01mreturn\u001b[39;00m feet\n\u001b[32m----> \u001b[39m\u001b[32m6\u001b[39m \u001b[38;5;28mprint\u001b[39m(kilometersToFeet(\u001b[43mkm\u001b[49m))\n",
      "\u001b[31mNameError\u001b[39m: name 'km' is not defined"
     ]
    }
   ],
   "source": [
    "def kilometersToFeet(km):\n",
    "    #add conversion\n",
    "    km=print(input(\"Enter an amount in kilometers: \"))\n",
    "    feet = km/1.61\n",
    "    return feet\n",
    "print(kilometersToFeet(km))"
   ]
  },
  {
   "cell_type": "code",
   "execution_count": 24,
   "id": "9b2cb7cd-6113-4b40-9ce5-3db7110bf43a",
   "metadata": {},
   "outputs": [
    {
     "ename": "NameError",
     "evalue": "name 'feet' is not defined",
     "output_type": "error",
     "traceback": [
      "\u001b[31m---------------------------------------------------------------------------\u001b[39m",
      "\u001b[31mNameError\u001b[39m                                 Traceback (most recent call last)",
      "\u001b[36mCell\u001b[39m\u001b[36m \u001b[39m\u001b[32mIn[24]\u001b[39m\u001b[32m, line 6\u001b[39m\n\u001b[32m      4\u001b[39m     feet = km/\u001b[32m1.61\u001b[39m\n\u001b[32m      5\u001b[39m     \u001b[38;5;28;01mreturn\u001b[39;00m feet\n\u001b[32m----> \u001b[39m\u001b[32m6\u001b[39m \u001b[38;5;28mprint\u001b[39m(kilometersToFeet(\u001b[43mfeet\u001b[49m))\n",
      "\u001b[31mNameError\u001b[39m: name 'feet' is not defined"
     ]
    }
   ],
   "source": []
  },
  {
   "cell_type": "code",
   "execution_count": null,
   "id": "8a824e5d-c178-4c39-b75a-54e78ee89188",
   "metadata": {},
   "outputs": [],
   "source": []
  }
 ],
 "metadata": {
  "kernelspec": {
   "display_name": "Python 3 (ipykernel)",
   "language": "python",
   "name": "python3"
  },
  "language_info": {
   "codemirror_mode": {
    "name": "ipython",
    "version": 3
   },
   "file_extension": ".py",
   "mimetype": "text/x-python",
   "name": "python",
   "nbconvert_exporter": "python",
   "pygments_lexer": "ipython3",
   "version": "3.11.13"
  }
 },
 "nbformat": 4,
 "nbformat_minor": 5
}
