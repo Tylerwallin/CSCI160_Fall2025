{
 "cells": [
  {
   "cell_type": "code",
   "execution_count": 2,
   "id": "51e29978-abdf-4ee0-9743-fbe70848db9d",
   "metadata": {},
   "outputs": [
    {
     "name": "stdout",
     "output_type": "stream",
     "text": [
      "  (           )\n",
      " (             )\n",
      "(_______________)\n",
      " ///////////////\n",
      " /It is Raining/\n",
      " ///////////////\n",
      "  (           )\n",
      " (             )\n",
      "(_______________)\n",
      " ///////////////\n",
      " /It is Raining/\n",
      " ///////////////\n"
     ]
    }
   ],
   "source": [
    "def printRain(): #Function Definition\n",
    "#A function definition creates the function by specifying a function name\n",
    "\n",
    "    #Whatever the function does is indented just like if statements\n",
    "    #Function Body\n",
    "    print('  (           )')\n",
    "    print(' (             )')\n",
    "    print('(_______________)')\n",
    "    print(' ///////////////')\n",
    "    print(' /It is Raining/')\n",
    "    print(' ///////////////')\n",
    "\n",
    "\n",
    "\n",
    "def main(): #Function Definition\n",
    "\n",
    "    printRain()\n",
    "    printRain()\n",
    "    #Function Call\n",
    "    #This directs Python to the function to do whatever the function specifies\n",
    "  \n",
    "main() #Function Call"
   ]
  },
  {
   "cell_type": "code",
   "execution_count": 36,
   "id": "4924cfbf-7b42-4563-9304-51405a313aa2",
   "metadata": {},
   "outputs": [
    {
     "name": "stdin",
     "output_type": "stream",
     "text": [
      "Enter a distance in km  5\n"
     ]
    },
    {
     "name": "stdout",
     "output_type": "stream",
     "text": [
      "5\n"
     ]
    },
    {
     "ename": "TypeError",
     "evalue": "unsupported operand type(s) for /: 'NoneType' and 'float'",
     "output_type": "error",
     "traceback": [
      "\u001b[31m---------------------------------------------------------------------------\u001b[39m",
      "\u001b[31mTypeError\u001b[39m                                 Traceback (most recent call last)",
      "\u001b[36mCell\u001b[39m\u001b[36m \u001b[39m\u001b[32mIn[36]\u001b[39m\u001b[32m, line 10\u001b[39m\n\u001b[32m      7\u001b[39m     km=\u001b[38;5;28mprint\u001b[39m(\u001b[38;5;28minput\u001b[39m(\u001b[33m\"\u001b[39m\u001b[33mEnter a distance in km \u001b[39m\u001b[33m\"\u001b[39m))\n\u001b[32m      8\u001b[39m     feet_distance= kilometersToFeet(km)\n\u001b[32m---> \u001b[39m\u001b[32m10\u001b[39m \u001b[38;5;28mprint\u001b[39m(\u001b[43mmain\u001b[49m\u001b[43m(\u001b[49m\u001b[43m)\u001b[49m)\n",
      "\u001b[36mCell\u001b[39m\u001b[36m \u001b[39m\u001b[32mIn[36]\u001b[39m\u001b[32m, line 8\u001b[39m, in \u001b[36mmain\u001b[39m\u001b[34m()\u001b[39m\n\u001b[32m      6\u001b[39m \u001b[38;5;28;01mdef\u001b[39;00m\u001b[38;5;250m \u001b[39m\u001b[34mmain\u001b[39m():\n\u001b[32m      7\u001b[39m     km=\u001b[38;5;28mprint\u001b[39m(\u001b[38;5;28minput\u001b[39m(\u001b[33m\"\u001b[39m\u001b[33mEnter a distance in km \u001b[39m\u001b[33m\"\u001b[39m))\n\u001b[32m----> \u001b[39m\u001b[32m8\u001b[39m     feet_distance= \u001b[43mkilometersToFeet\u001b[49m\u001b[43m(\u001b[49m\u001b[43mkm\u001b[49m\u001b[43m)\u001b[49m\n",
      "\u001b[36mCell\u001b[39m\u001b[36m \u001b[39m\u001b[32mIn[36]\u001b[39m\u001b[32m, line 3\u001b[39m, in \u001b[36mkilometersToFeet\u001b[39m\u001b[34m(km)\u001b[39m\n\u001b[32m      1\u001b[39m \u001b[38;5;28;01mdef\u001b[39;00m\u001b[38;5;250m \u001b[39m\u001b[34mkilometersToFeet\u001b[39m(km):\n\u001b[32m      2\u001b[39m     \u001b[38;5;66;03m#add conversion\u001b[39;00m\n\u001b[32m----> \u001b[39m\u001b[32m3\u001b[39m     feet = \u001b[43mkm\u001b[49m\u001b[43m/\u001b[49m\u001b[32;43m1.61\u001b[39;49m\n\u001b[32m      4\u001b[39m     \u001b[38;5;28;01mreturn\u001b[39;00m feet\n",
      "\u001b[31mTypeError\u001b[39m: unsupported operand type(s) for /: 'NoneType' and 'float'"
     ]
    }
   ],
   "source": [
    "def kilometersToFeet(km):\n",
    "    #add conversion\n",
    "    feet = km/1.61\n",
    "    return feet\n",
    "\n",
    "def main():\n",
    "    km=print(input(\"Enter a distance in km \"))\n",
    "    feet_distance= kilometersToFeet(km)\n",
    "\n",
    "print(main())"
   ]
  },
  {
   "cell_type": "code",
   "execution_count": null,
   "id": "3713384c-7930-4541-b107-a1f174688b7c",
   "metadata": {},
   "outputs": [],
   "source": []
  },
  {
   "cell_type": "code",
   "execution_count": null,
   "id": "02bf1af3-1007-4832-a272-061f96c3b931",
   "metadata": {},
   "outputs": [],
   "source": []
  },
  {
   "cell_type": "code",
   "execution_count": null,
   "id": "dd1f6ba3-6d48-4f37-a0eb-70bd08c8aa61",
   "metadata": {},
   "outputs": [],
   "source": []
  },
  {
   "cell_type": "code",
   "execution_count": null,
   "id": "cbd257de-5216-4621-8c26-d90660753990",
   "metadata": {},
   "outputs": [],
   "source": []
  },
  {
   "cell_type": "code",
   "execution_count": null,
   "id": "a950501f-174d-418e-b3e3-9b950df07093",
   "metadata": {},
   "outputs": [],
   "source": []
  },
  {
   "cell_type": "code",
   "execution_count": null,
   "id": "c077f048-abe8-4c1b-b87e-9fabd313df57",
   "metadata": {},
   "outputs": [],
   "source": []
  }
 ],
 "metadata": {
  "kernelspec": {
   "display_name": "Python 3 (ipykernel)",
   "language": "python",
   "name": "python3"
  },
  "language_info": {
   "codemirror_mode": {
    "name": "ipython",
    "version": 3
   },
   "file_extension": ".py",
   "mimetype": "text/x-python",
   "name": "python",
   "nbconvert_exporter": "python",
   "pygments_lexer": "ipython3",
   "version": "3.11.13"
  }
 },
 "nbformat": 4,
 "nbformat_minor": 5
}
